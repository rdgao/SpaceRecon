{
 "cells": [
  {
   "cell_type": "code",
   "execution_count": 2,
   "metadata": {},
   "outputs": [],
   "source": [
    "import numpy as np\n",
    "import pandas as pd\n",
    "import matplotlib as plt\n",
    "import pickle\n",
    "from scipy import io"
   ]
  },
  {
   "cell_type": "code",
   "execution_count": 13,
   "metadata": {},
   "outputs": [],
   "source": [
    "# .mat's are ~ 80, 330, and 300 mb respectively\n",
    "\n",
    "krebs = io.loadmat('spks/spksKrebs_Feb18.mat', squeeze_me = True)\n",
    "robbins = io.loadmat('spks/spksRobbins_Feb18.mat', squeeze_me = True)  \n",
    "waksman = io.loadmat('spks/spksWaksman_Feb18.mat', squeeze_me = True)\n"
   ]
  },
  {
   "cell_type": "markdown",
   "metadata": {},
   "source": [
    "format: data['spks'][0][1]    \n",
    "\n",
    "['spks'][probe #][0: times, 1: cluster id, 2: heights]"
   ]
  },
  {
   "cell_type": "code",
   "execution_count": 5,
   "metadata": {},
   "outputs": [],
   "source": [
    "#returns a length 8 array containing dictionaries {Cluster_n: Time_n}\n",
    "\n",
    "def make_spike_array(data):\n",
    "    main_spike_array = np.array([]) #has 8 dictionaries\n",
    "\n",
    "    for i in np.arange(8):\n",
    "        spikes = data['spks'][i][0]\n",
    "        clusters = data['spks'][i][1]\n",
    "        spike_to_cluster = np.vstack((spikes, clusters)).T\n",
    "\n",
    "        cluster_ids = list(set(clusters)) #1-305\n",
    "\n",
    "        neuron_times = {k: [] for k in cluster_ids}\n",
    "\n",
    "        for i in cluster_ids:\n",
    "            neuron_times[i] = spikes[clusters==i]\n",
    "\n",
    "        main_spike_array = np.append(main_spike_array, neuron_times)   \n",
    "        \n",
    "    return main_spike_array"
   ]
  },
  {
   "cell_type": "code",
   "execution_count": 14,
   "metadata": {},
   "outputs": [],
   "source": [
    "krebs_spks = make_spike_array(krebs)\n",
    "robbins_spks = make_spike_array(robbins)\n",
    "waksman_spks = make_spike_array(waksman)"
   ]
  }
 ],
 "metadata": {
  "kernelspec": {
   "display_name": "Python 2",
   "language": "python",
   "name": "python2"
  },
  "language_info": {
   "codemirror_mode": {
    "name": "ipython",
    "version": 2
   },
   "file_extension": ".py",
   "mimetype": "text/x-python",
   "name": "python",
   "nbconvert_exporter": "python",
   "pygments_lexer": "ipython2",
   "version": "2.7.15"
  }
 },
 "nbformat": 4,
 "nbformat_minor": 2
}

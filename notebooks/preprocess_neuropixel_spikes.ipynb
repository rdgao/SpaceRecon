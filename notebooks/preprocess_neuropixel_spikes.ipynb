{
 "cells": [
  {
   "cell_type": "code",
   "execution_count": 7,
   "metadata": {},
   "outputs": [],
   "source": [
    "%matplotlib inline\n",
    "import numpy as np\n",
    "from scipy import io, signal\n",
    "import pandas as pd\n",
    "import matplotlib.pyplot as plt"
   ]
  },
  {
   "cell_type": "code",
   "execution_count": 2,
   "metadata": {
    "collapsed": true
   },
   "outputs": [],
   "source": [
    "def beg_end(spikes_all):\n",
    "    spikes_concat = np.concatenate(spikes_all)\n",
    "    return np.floor(spikes_concat.min()), np.ceil(spikes_concat.max())"
   ]
  },
  {
   "cell_type": "code",
   "execution_count": 97,
   "metadata": {},
   "outputs": [],
   "source": [
    "datafolder = '/Users/rdgao/Documents/data/Stringer_neuropixel/spikes/'\n",
    "mice = ['Krebs', 'Waksman', 'Robbins']\n",
    "cluLocs = io.loadmat(datafolder+'cluLoc.mat', squeeze_me = True)\n",
    "probe_id = cluLocs['iprobeAll']\n",
    "probe_loc = cluLocs['brainLocNameAll']"
   ]
  },
  {
   "cell_type": "code",
   "execution_count": 213,
   "metadata": {},
   "outputs": [],
   "source": [
    "bin_width = 0.01\n",
    "i_m = 1\n",
    "mouse = mice[i_m]\n",
    "mouse_data = io.loadmat(datafolder+'spks/spks%s_Feb18.mat'%mouse, squeeze_me = True)['spks']\n",
    "clu_info = pd.DataFrame(np.array([probe_id[i_m],probe_loc[i_m]]).T, columns=['probe', 'region'])"
   ]
  },
  {
   "cell_type": "code",
   "execution_count": 214,
   "metadata": {},
   "outputs": [
    {
     "name": "stdout",
     "output_type": "stream",
     "text": [
      "Grab Spikes\n",
      "Bin Spikes\n"
     ]
    }
   ],
   "source": [
    "print('Grab Spikes')\n",
    "spikes_all = []\n",
    "for probe in range(len(mouse_data)):\n",
    "    st = mouse_data[probe][0]\n",
    "    clu = mouse_data[probe][1]\n",
    "    # add spike time into each\n",
    "    spikes_all += [np.sort(st[clu==k]) for k in np.unique(clu)]\n",
    "\n",
    "print('Bin Spikes')\n",
    "t_beg, t_end = beg_end(spikes_all)\n",
    "t_bins = np.arange(t_beg,t_end,bin_width)\n",
    "spk_binned = [np.histogram(spks,t_bins)[0] for spks in spikes_all]\n",
    "df_spk = pd.DataFrame(np.array(spk_binned).T, index=t_bins[:-1])"
   ]
  },
  {
   "cell_type": "code",
   "execution_count": 47,
   "metadata": {
    "collapsed": true
   },
   "outputs": [],
   "source": [
    "datafolder = '/Users/rdgao/Documents/data/Stringer_neuropixel/spikes/'    \n",
    "def load_mouse_data(datafolder, i_m, return_type='binned', bin_width=0.01, smooth_param=[0.2, 0.025]):\n",
    "    mice = ['Krebs', 'Waksman', 'Robbins']\n",
    "    cluLocs = io.loadmat(datafolder+'cluLoc.mat', squeeze_me = True)\n",
    "    probe_id = cluLocs['iprobeAll']\n",
    "    probe_loc = cluLocs['brainLocNameAll']\n",
    "    \n",
    "    # load data and cluster info\n",
    "    mouse_data = io.loadmat(datafolder+'spks/spks%s_Feb18.mat'%mice[i_m], squeeze_me = True)['spks']\n",
    "    clu_info = pd.DataFrame(np.array([probe_id[i_m],probe_loc[i_m]]).T, columns=['probe', 'region'])\n",
    "    \n",
    "    print('Grabbing Spikes...')\n",
    "    spikes_all = []\n",
    "    for probe in range(len(mouse_data)):\n",
    "        st = mouse_data[probe][0]\n",
    "        clu = mouse_data[probe][1]\n",
    "        # add spike time into each\n",
    "        spikes_all += [np.sort(st[clu==k]) for k in np.unique(clu)]\n",
    "    \n",
    "    if return_type is 'spiketimes': \n",
    "        return spikes_all, clu_info\n",
    "    \n",
    "    print('Binning Spikes...')\n",
    "    t_beg, t_end = beg_end(spikes_all)\n",
    "    t_bins = np.arange(t_beg,t_end,bin_width)\n",
    "    spk_binned = [np.histogram(spks,t_bins)[0] for spks in spikes_all]\n",
    "    df_spk = pd.DataFrame(np.array(spk_binned).T, index=t_bins[:-1])\n",
    "\n",
    "    if return_type is 'binned':\n",
    "        return df_spk, clu_info\n",
    "    \n",
    "    if return_type is 'smoothed':\n",
    "        print('Smoothing...')\n",
    "        win = signal.windows.gaussian(int(win_len/bin_width)+1, win_std/bin_width)\n",
    "        win/=win.sum()\n",
    "        bin_smoothed = signal.convolve(df_spk, win[:,None], mode='same')\n",
    "        df_spk_smo = pd.DataFrame(bin_smoothed, index=t_bins[:-1])\n",
    "        return df_spk_smo, clu_info"
   ]
  },
  {
   "cell_type": "code",
   "execution_count": 70,
   "metadata": {},
   "outputs": [
    {
     "name": "stdout",
     "output_type": "stream",
     "text": [
      "Grabbing Spikes...\n",
      "Binning Spikes...\n",
      "Grabbing Spikes...\n",
      "Binning Spikes...\n",
      "Grabbing Spikes...\n",
      "Binning Spikes...\n"
     ]
    }
   ],
   "source": [
    "df_spk50, df_info = load_mouse_data(datafolder, 0, return_type='binned', bin_width=0.05)\n",
    "df_spk10, df_info = load_mouse_data(datafolder, 0, return_type='binned', bin_width=0.01)\n",
    "df_spk5, df_info = load_mouse_data(datafolder, 0, return_type='binned', bin_width=0.005)"
   ]
  },
  {
   "cell_type": "code",
   "execution_count": 73,
   "metadata": {},
   "outputs": [
    {
     "data": {
      "text/plain": [
       "<matplotlib.legend.Legend at 0x131e79320>"
      ]
     },
     "execution_count": 73,
     "metadata": {},
     "output_type": "execute_result"
    },
    {
     "data": {
      "image/png": "[encoded data removed]",
      "text/plain": [
       "<Figure size 288x288 with 1 Axes>"
      ]
     },
     "metadata": {},
     "output_type": "display_data"
    }
   ],
   "source": [
    "from sklearn.decomposition import PCA\n",
    "pca = PCA(n_components=1000)\n",
    "plt.figure(figsize=(4,4))\n",
    "spk_proj = pca.fit_transform(df_spk50.values)\n",
    "plt.loglog(pca.explained_variance_ratio_, 'o-', label='50ms')\n",
    "spk_proj = pca.fit_transform(df_spk10.values)\n",
    "plt.loglog(pca.explained_variance_ratio_, 'o-', label='10ms')\n",
    "spk_proj = pca.fit_transform(df_spk5.values)\n",
    "plt.loglog(pca.explained_variance_ratio_, 'o-', label='5ms')\n",
    "plt.legend()"
   ]
  },
  {
   "cell_type": "code",
   "execution_count": 67,
   "metadata": {},
   "outputs": [
    {
     "data": {
      "text/plain": [
       "<matplotlib.legend.Legend at 0x12d1cf9e8>"
      ]
     },
     "execution_count": 67,
     "metadata": {},
     "output_type": "execute_result"
    },
    {
     "data": {
      "image/png": "[encoded data removed]",
      "text/plain": [
       "<Figure size 288x288 with 1 Axes>"
      ]
     },
     "metadata": {},
     "output_type": "display_data"
    }
   ],
   "source": [
    "\n",
    "plt.loglog(var, 'o-')\n",
    "plt.loglog(pca.explained_variance_ratio_, 'o-')\n",
    "plt.legend(['50ms bin', '50ms bin, 25ms std gaussian'])\n",
    "#plt.plot(np.cumsum(pca.explained_variance_ratio_), 'o-')\n",
    "\n"
   ]
  },
  {
   "cell_type": "code",
   "execution_count": null,
   "metadata": {
    "collapsed": true
   },
   "outputs": [],
   "source": []
  }
 ],
 "metadata": {
  "kernelspec": {
   "display_name": "Python 3",
   "language": "python",
   "name": "python3"
  },
  "language_info": {
   "codemirror_mode": {
    "name": "ipython",
    "version": 3
   },
   "file_extension": ".py",
   "mimetype": "text/x-python",
   "name": "python",
   "nbconvert_exporter": "python",
   "pygments_lexer": "ipython3",
   "version": "3.6.9"
  }
 },
 "nbformat": 4,
 "nbformat_minor": 2
}
